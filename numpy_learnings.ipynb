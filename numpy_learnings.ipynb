{
 "cells": [
  {
   "cell_type": "markdown",
   "id": "77f64494",
   "metadata": {},
   "source": [
    "##### Why numpy is required ??\n",
    "\n",
    "Numpy - NUMerical PYthon library - A fundamental python library to perform complex numerical operations which is developed on top of Numeric library.\n",
    "\n",
    "To perform complex math operations like statistics, differential/integral equations we don't have in built support in python. so we need numpy."
   ]
  },
  {
   "cell_type": "markdown",
   "id": "067f7a4f",
   "metadata": {},
   "source": [
    "#### Advantage of numpy over python list ?\n",
    "\n",
    "Numpy is developed on both python and C. Most of numpy is developed in C. So, performance wise numpy is fast.\n",
    "\n",
    "ML model has to process millions of records, so in that case we have to go for numpy over python list where we require high speed.\n",
    "\n",
    "\n",
    "Numpy has vectorization feature which improves performance while iteration\n"
   ]
  },
  {
   "cell_type": "markdown",
   "id": "ce2b0578",
   "metadata": {},
   "source": [
    "Numpy acts as backbone for ML libraries like Pandas, scikit-learn.\n",
    "Ex: Pandas internally uses nd array to store data which is numpy data structure."
   ]
  },
  {
   "cell_type": "markdown",
   "id": "384f75bf",
   "metadata": {},
   "source": [
    "#### what is nd array in numpy ?\n",
    "\n",
    "In numpy we can hold data using Array data structure.\n",
    "Arrays which are created using numpy are called are nd arrays.\n",
    "\n",
    "\n",
    "nd array --> N Dimensional array / Numpy array.\n",
    "\n",
    "Numpy contains several functions which are reqiuired to create nd arrays and required operations."
   ]
  },
  {
   "cell_type": "markdown",
   "id": "3d877215",
   "metadata": {},
   "source": [
    "#### Advantages of Numpy over python list ?\n",
    "\n",
    "1. Performace is very high.\n",
    "2. numpy array can hold homogenous data."
   ]
  },
  {
   "cell_type": "markdown",
   "id": "45c43d3f",
   "metadata": {},
   "source": [
    "#### Applications of Numpy:\n",
    "\n",
    "- To perform linear algebra functions.\n",
    "- To perform linear regression, logistic regression.\n",
    "- Neural networks\n",
    "- K-means clustering\n",
    "- Opeational research area etc\n",
    "\n",
    "\n",
    "Numpy is fundamental required library for data science, ML, DL etc."
   ]
  },
  {
   "cell_type": "markdown",
   "id": "a06a5060",
   "metadata": {},
   "source": [
    "### Topics to be covered:\n",
    "    \n",
    "1. Creation of numpy array\n",
    "2. Array operations\n",
    "3. Array attributes\n",
    "4. Array Indexing and Slicing\n",
    "5. Broadcasting\n",
    "6. Iterating over array\n",
    "7. binary condition\n",
    "8. copy and view operations\n",
    "9. Sort and search operations\n",
    "10. statistics functions\n",
    "11. Linear algebra functions"
   ]
  },
  {
   "cell_type": "markdown",
   "id": "2addf6f5",
   "metadata": {},
   "source": [
    "### Numpy vs traditional python code (Performance Test)"
   ]
  },
  {
   "cell_type": "code",
   "execution_count": 16,
   "id": "71841e80",
   "metadata": {},
   "outputs": [
    {
     "name": "stdout",
     "output_type": "stream",
     "text": [
      "CPU times: user 4 µs, sys: 1 µs, total: 5 µs\n",
      "Wall time: 8.82 µs\n",
      "140\n"
     ]
    }
   ],
   "source": [
    "# Dot product using numpy\n",
    "%time\n",
    "\n",
    "from datetime import datetime\n",
    "import numpy as np\n",
    "\n",
    "a = np.array([10,20,30])\n",
    "b = np.array([1,2,3])\n",
    "print(np.dot(a,b))\n",
    "\n",
    "\n",
    "for i in range(10000000):\n",
    "    np.dot(a,b)\n",
    "\n",
    "\n",
    "# Dot product = (10*1)+(20*2)+(30*3) = 10+40+90 = 140"
   ]
  },
  {
   "cell_type": "code",
   "execution_count": 17,
   "id": "09854a51",
   "metadata": {},
   "outputs": [
    {
     "name": "stdout",
     "output_type": "stream",
     "text": [
      "CPU times: user 1e+03 ns, sys: 0 ns, total: 1e+03 ns\n",
      "Wall time: 4.05 µs\n"
     ]
    }
   ],
   "source": [
    "# Python code\n",
    "%time\n",
    "\n",
    "def dot_product(a, b):\n",
    "    res = 0\n",
    "    for i,j in zip(a,b):\n",
    "        res+=(i*j)\n",
    "    return (res)\n",
    "\n",
    "for i in range(10000000):\n",
    "    dot_product(a,b)\n"
   ]
  },
  {
   "cell_type": "markdown",
   "id": "9cfcfad1",
   "metadata": {},
   "source": [
    "How to create arrays in python ?\n",
    "\n",
    "1. By using array module (not frequently used as library support is not much)\n",
    "2. By using numpy module"
   ]
  },
  {
   "cell_type": "code",
   "execution_count": 24,
   "id": "f706693b",
   "metadata": {},
   "outputs": [
    {
     "name": "stdout",
     "output_type": "stream",
     "text": [
      "<class 'array.array'>\n",
      "printing elements one by one: \n",
      "10\n",
      "20\n",
      "30\n",
      "40\n",
      "*********************\n",
      "10\n",
      "20\n",
      "30\n",
      "40\n"
     ]
    }
   ],
   "source": [
    "import array\n",
    "\n",
    "a=array.array('i', [10,20,30,40]) # here 'i' specify it's an int type array\n",
    "print(type(a))\n",
    "print('printing elements one by one: ')\n",
    "\n",
    "for i in range(len(a)):\n",
    "    print(a[i])\n",
    "\n",
    "print('*********************')\n",
    "for j in a:\n",
    "    print(j)"
   ]
  },
  {
   "cell_type": "code",
   "execution_count": 25,
   "id": "410c8ca2",
   "metadata": {},
   "outputs": [
    {
     "name": "stdout",
     "output_type": "stream",
     "text": [
      "<class 'numpy.ndarray'>\n",
      "printing elements one by one: \n",
      "1\n",
      "2\n",
      "3\n",
      "4\n"
     ]
    }
   ],
   "source": [
    "# By using numpy library\n",
    "\n",
    "import numpy as np\n",
    "a=np.array([1,2,3,4])\n",
    "print(type(a))\n",
    "\n",
    "print('printing elements one by one: ')\n",
    "for i in a:\n",
    "    print(i)"
   ]
  },
  {
   "cell_type": "markdown",
   "id": "f6cb4519",
   "metadata": {},
   "source": [
    "### Python list vs Numpy Array\n",
    "\n",
    "##### Similarities:\n",
    "\n",
    "1. Both can be used to hold/store data.\n",
    "2. Order of insertion will be preserved. Hence indexing is possible.\n",
    "3. Slicing is applicable for both.\n",
    "4. Both are mutable. Once we create list/array we can modify the elements.\n",
    "\n",
    "\n",
    "##### Differences:\n",
    "1. List is in-built data type. But numpy is not in-built, we have to install and import numpy library explicitly.\n",
    "\n",
    "2. List can hold heterogenous elements. Numpy array can hold homogenous elements.\n",
    "    Ex: l = [1,\"jayanthi\", 3.45, True]\n",
    "        a=numpy.array([10,20,30,40,50])\n",
    "\n",
    "3. On arrays we can perform vector operations - the operations which can be operated on every element of the array. But on list vector operations cannot be performed.\n",
    "\n",
    "    Ex: a=numpy.array([1,2,3,4])\n",
    "        a+1 # [2,3,4,5]\n",
    "        \n",
    "        l = [1,2,3,4]\n",
    "        l+1 # Gives Typeerror - Can only concatenate list not int\n",
    "        l*2 # [1,2,3,4,1,2,3,4]\n",
    "       \n",
    "4. Numpy arrays consume less memory compared to list.\n",
    "\n",
    "5. Numpy arrays are super fast.\n",
    "6. Numpy arrays are more convenient to use while perform mathematical operations."
   ]
  },
  {
   "cell_type": "markdown",
   "id": "a03bd679",
   "metadata": {},
   "source": [
    "#### Creating numpy arrays:\n",
    "\n",
    "Numpy has several functions to create nd array based on our requirement.\n",
    "\n",
    "1. array()\n",
    "2. arange()\n",
    "3. zeros()\n",
    "4. ones()\n",
    "5. linspace()\n",
    "6. eye()\n",
    "7. identity()\n",
    "8. emmpty()\n",
    "9. random() - library functions ==> randint(), rand(), uniform(), randn(), normal(), shuffle()"
   ]
  },
  {
   "cell_type": "markdown",
   "id": "123768f3",
   "metadata": {},
   "source": [
    "#### Array Attributes\n",
    "\n",
    "1. ndim - to get dimension of the array\n",
    "2. shape - To get shape of the array\n",
    "3. size - to get size of the array (number of elements present in an array)\n",
    "4. dtype - to get datatype of array elements\n",
    "5. itemsize - size of each element of the array in bytes."
   ]
  },
  {
   "cell_type": "code",
   "execution_count": 38,
   "id": "6e95afdf",
   "metadata": {},
   "outputs": [
    {
     "name": "stdout",
     "output_type": "stream",
     "text": [
      "1\n",
      "(5,)\n",
      "5\n",
      "int64\n",
      "8\n"
     ]
    }
   ],
   "source": [
    "a=np.array([1,2,3,4,5])\n",
    "print(a.ndim)\n",
    "print(a.shape)\n",
    "print(a.size)\n",
    "print(a.dtype)\n",
    "print(a.itemsize)"
   ]
  },
  {
   "cell_type": "markdown",
   "id": "5277e204",
   "metadata": {},
   "source": [
    "##### Numpy data types:\n",
    "\n",
    "In python we have data types - int, string, bool, complex, float etc.\n",
    "Numpy has some extra data types. we can represent data types using a single char also.\n",
    "i ==> integer ( by default int32)\n",
    "b ==> boolean\n",
    "u ==> unsigned integer (uint8, uint16, uint32, uint64)\n",
    "f ==> float (float16, float32, float64) - default if float64\n",
    "c ==> complex (complex64, complex128)\n",
    "s ==> string\n",
    "U ==> unicode string\n",
    "M ==> datetime"
   ]
  },
  {
   "cell_type": "code",
   "execution_count": 41,
   "id": "265ef19d",
   "metadata": {},
   "outputs": [
    {
     "name": "stdout",
     "output_type": "stream",
     "text": [
      "int64\n",
      "int8\n",
      "int32\n"
     ]
    }
   ],
   "source": [
    "# Create array with specified dtype\n",
    "\n",
    "a=np.array([1,2,3,5], 'i8') # 8 bytes = 64 bits\n",
    "print(a.dtype)\n",
    "\n",
    "b=np.array([1,2,3,4,5], 'int8') # 8 bits\n",
    "print(b.dtype)\n",
    "\n",
    "c=np.array([1,2,3,4,5], 'i') # default int32\n",
    "print(c.dtype)"
   ]
  },
  {
   "cell_type": "markdown",
   "id": "beb179ed",
   "metadata": {},
   "source": [
    "##### Convert type of existing array\n",
    "\n",
    "Using astype() function."
   ]
  },
  {
   "cell_type": "code",
   "execution_count": 44,
   "id": "67d34ddb",
   "metadata": {},
   "outputs": [
    {
     "name": "stdout",
     "output_type": "stream",
     "text": [
      "int64\n",
      "float64\n"
     ]
    }
   ],
   "source": [
    "a=np.array([1,2,3,4,5])\n",
    "print(a.dtype)\n",
    "\n",
    "b=a.astype('float64')\n",
    "print(b.dtype)"
   ]
  },
  {
   "cell_type": "markdown",
   "id": "e46c8a3c",
   "metadata": {},
   "source": [
    "##### Using corresponding data type"
   ]
  },
  {
   "cell_type": "code",
   "execution_count": 46,
   "id": "00388862",
   "metadata": {},
   "outputs": [
    {
     "name": "stdout",
     "output_type": "stream",
     "text": [
      "int64\n",
      "float64\n"
     ]
    }
   ],
   "source": [
    "a=np.array([1,2,3,4,5])\n",
    "print(a.dtype)\n",
    "\n",
    "c=np.float64(a)\n",
    "print(c.dtype)"
   ]
  },
  {
   "cell_type": "code",
   "execution_count": 88,
   "id": "846f5195",
   "metadata": {},
   "outputs": [
    {
     "name": "stdout",
     "output_type": "stream",
     "text": [
      "int64\n",
      "[ True  True  True  True  True False  True  True]\n",
      "bool\n"
     ]
    }
   ],
   "source": [
    "a=np.array([1,2,3,4,5,0,6,-2])\n",
    "print(a.dtype)\n",
    "\n",
    "x=np.bool_(a)\n",
    "print(x)\n",
    "print(x.dtype)"
   ]
  },
  {
   "cell_type": "markdown",
   "id": "362c91e3",
   "metadata": {},
   "source": [
    "#### Creation of nd array using arange function"
   ]
  },
  {
   "cell_type": "raw",
   "id": "13a083a3",
   "metadata": {},
   "source": [
    "It is exactly same as python range function.\n",
    "With arange we can create only 1D array only. But this can be converted to however we want."
   ]
  },
  {
   "cell_type": "code",
   "execution_count": 90,
   "id": "e58b44ff",
   "metadata": {},
   "outputs": [
    {
     "name": "stdout",
     "output_type": "stream",
     "text": [
      "[0 1 2 3 4 5 6 7 8 9]\n",
      "1\n",
      "(10,)\n",
      "10\n",
      "int64\n"
     ]
    }
   ],
   "source": [
    "a = np.arange(10)\n",
    "print(a)\n",
    "print(a.ndim)\n",
    "print(a.shape)\n",
    "print(a.size)\n",
    "print(a.dtype)"
   ]
  },
  {
   "cell_type": "code",
   "execution_count": 92,
   "id": "c0cc92cd",
   "metadata": {},
   "outputs": [
    {
     "name": "stdout",
     "output_type": "stream",
     "text": [
      "[ 1.  4.  7. 10.]\n",
      "1\n",
      "(4,)\n",
      "4\n",
      "float64\n"
     ]
    }
   ],
   "source": [
    "a = np.arange(1,11,3, dtype=float)\n",
    "print(a)\n",
    "print(a.ndim)\n",
    "print(a.shape)\n",
    "print(a.size)\n",
    "print(a.dtype)"
   ]
  },
  {
   "cell_type": "markdown",
   "id": "41da7bd4",
   "metadata": {},
   "source": [
    "##### linspace function()"
   ]
  },
  {
   "cell_type": "raw",
   "id": "e93ca427",
   "metadata": {},
   "source": [
    "In the specified interval, linearly spaced values. It always start and end values."
   ]
  },
  {
   "cell_type": "code",
   "execution_count": 98,
   "id": "0fab4a09",
   "metadata": {},
   "outputs": [
    {
     "name": "stdout",
     "output_type": "stream",
     "text": [
      "[0.         0.02040816 0.04081633 0.06122449 0.08163265 0.10204082\n",
      " 0.12244898 0.14285714 0.16326531 0.18367347 0.20408163 0.2244898\n",
      " 0.24489796 0.26530612 0.28571429 0.30612245 0.32653061 0.34693878\n",
      " 0.36734694 0.3877551  0.40816327 0.42857143 0.44897959 0.46938776\n",
      " 0.48979592 0.51020408 0.53061224 0.55102041 0.57142857 0.59183673\n",
      " 0.6122449  0.63265306 0.65306122 0.67346939 0.69387755 0.71428571\n",
      " 0.73469388 0.75510204 0.7755102  0.79591837 0.81632653 0.83673469\n",
      " 0.85714286 0.87755102 0.89795918 0.91836735 0.93877551 0.95918367\n",
      " 0.97959184 1.        ]\n",
      "50\n",
      "********************\n",
      "[ 0  5 10]\n"
     ]
    }
   ],
   "source": [
    "a=np.linspace(0,1) #between 0 and 1 we will get 50 linearly spaced values\n",
    "print(a)\n",
    "print(a.size)\n",
    "\n",
    "print('********************')\n",
    "a = np.linspace(0,10,3, dtype=int)\n",
    "print(a)"
   ]
  },
  {
   "cell_type": "markdown",
   "id": "ebbd06d5",
   "metadata": {},
   "source": [
    "##### arange() vs linspace()"
   ]
  },
  {
   "cell_type": "raw",
   "id": "e399dbc8",
   "metadata": {},
   "source": [
    "arange() --> elements will be considered in the given range based on step value.\n",
    "\n",
    "linspace() --> Specified number of values will be considered in the given range. You can specify how many values you want. By defualt it's 50 values."
   ]
  },
  {
   "cell_type": "markdown",
   "id": "88a8527f",
   "metadata": {},
   "source": [
    "#### Zeros() --> This function returns an array with all 0's. we can create any dimensional array"
   ]
  },
  {
   "cell_type": "code",
   "execution_count": 105,
   "id": "0569a7b6",
   "metadata": {},
   "outputs": [
    {
     "name": "stdout",
     "output_type": "stream",
     "text": [
      "[0. 0. 0. 0.]\n",
      "*******************\n",
      "[[0. 0. 0.]\n",
      " [0. 0. 0.]\n",
      " [0. 0. 0.]\n",
      " [0. 0. 0.]]\n",
      "*******************\n",
      "[[[0. 0. 0. 0.]\n",
      "  [0. 0. 0. 0.]\n",
      "  [0. 0. 0. 0.]]\n",
      "\n",
      " [[0. 0. 0. 0.]\n",
      "  [0. 0. 0. 0.]\n",
      "  [0. 0. 0. 0.]]]\n"
     ]
    }
   ],
   "source": [
    "a = np.zeros(4)\n",
    "print(a)\n",
    "\n",
    "print('*******************')\n",
    "\n",
    "a=np.zeros((4,3))\n",
    "print(a)\n",
    "\n",
    "print('*******************')\n",
    "\n",
    "a=np.zeros((2,3,4))\n",
    "print(a)"
   ]
  },
  {
   "cell_type": "markdown",
   "id": "5654c29f",
   "metadata": {},
   "source": [
    "#### ones() --> generate an array with value \"1\".  Same as zeros()"
   ]
  },
  {
   "cell_type": "code",
   "execution_count": 106,
   "id": "c7c186eb",
   "metadata": {},
   "outputs": [
    {
     "name": "stdout",
     "output_type": "stream",
     "text": [
      "[1. 1. 1.]\n",
      "*******************\n",
      "[[1. 1. 1.]\n",
      " [1. 1. 1.]]\n"
     ]
    }
   ],
   "source": [
    "a = np.ones(3)\n",
    "print(a)\n",
    "\n",
    "print('*******************')\n",
    "\n",
    "a=np.ones((2,3))\n",
    "print(a)"
   ]
  },
  {
   "cell_type": "markdown",
   "id": "1f71147e",
   "metadata": {},
   "source": [
    "##### full() --> Generate any value"
   ]
  },
  {
   "cell_type": "code",
   "execution_count": 109,
   "id": "af7cb055",
   "metadata": {},
   "outputs": [
    {
     "name": "stdout",
     "output_type": "stream",
     "text": [
      "[2 2 2 2 2 2 2 2 2 2]\n",
      "\n",
      "*******************\n",
      "\n",
      "[[7 7 7 7]\n",
      " [7 7 7 7]\n",
      " [7 7 7 7]]\n"
     ]
    }
   ],
   "source": [
    "a = np.full(10, 2) # dimension and fill value\n",
    "print(a)\n",
    "\n",
    "print('\\n*******************\\n')\n",
    "\n",
    "a = np.full((3,4),7)\n",
    "print(a)"
   ]
  },
  {
   "cell_type": "markdown",
   "id": "a29749c2",
   "metadata": {},
   "source": [
    "##### eye() --> To generate identity matrix"
   ]
  },
  {
   "cell_type": "code",
   "execution_count": 7,
   "id": "ed277d3d",
   "metadata": {},
   "outputs": [
    {
     "name": "stdout",
     "output_type": "stream",
     "text": [
      "Help on function eye in module numpy:\n",
      "\n",
      "eye(N, M=None, k=0, dtype=<class 'float'>, order='C', *, like=None)\n",
      "    Return a 2-D array with ones on the diagonal and zeros elsewhere.\n",
      "    \n",
      "    Parameters\n",
      "    ----------\n",
      "    N : int\n",
      "      Number of rows in the output.\n",
      "    M : int, optional\n",
      "      Number of columns in the output. If None, defaults to `N`.\n",
      "    k : int, optional\n",
      "      Index of the diagonal: 0 (the default) refers to the main diagonal,\n",
      "      a positive value refers to an upper diagonal, and a negative value\n",
      "      to a lower diagonal.\n",
      "    dtype : data-type, optional\n",
      "      Data-type of the returned array.\n",
      "    order : {'C', 'F'}, optional\n",
      "        Whether the output should be stored in row-major (C-style) or\n",
      "        column-major (Fortran-style) order in memory.\n",
      "    \n",
      "        .. versionadded:: 1.14.0\n",
      "    like : array_like\n",
      "        Reference object to allow the creation of arrays which are not\n",
      "        NumPy arrays. If an array-like passed in as ``like`` supports\n",
      "        the ``__array_function__`` protocol, the result will be defined\n",
      "        by it. In this case, it ensures the creation of an array object\n",
      "        compatible with that passed in via this argument.\n",
      "    \n",
      "        .. versionadded:: 1.20.0\n",
      "    \n",
      "    Returns\n",
      "    -------\n",
      "    I : ndarray of shape (N,M)\n",
      "      An array where all elements are equal to zero, except for the `k`-th\n",
      "      diagonal, whose values are equal to one.\n",
      "    \n",
      "    See Also\n",
      "    --------\n",
      "    identity : (almost) equivalent function\n",
      "    diag : diagonal 2-D array from a 1-D array specified by the user.\n",
      "    \n",
      "    Examples\n",
      "    --------\n",
      "    >>> np.eye(2, dtype=int)\n",
      "    array([[1, 0],\n",
      "           [0, 1]])\n",
      "    >>> np.eye(3, k=1)\n",
      "    array([[0.,  1.,  0.],\n",
      "           [0.,  0.,  1.],\n",
      "           [0.,  0.,  0.]])\n",
      "\n"
     ]
    }
   ],
   "source": [
    "import numpy as np\n",
    "help(np.eye)"
   ]
  },
  {
   "cell_type": "markdown",
   "id": "1b7fbd76",
   "metadata": {},
   "source": [
    "##### identity() "
   ]
  },
  {
   "cell_type": "raw",
   "id": "b95bb84f",
   "metadata": {},
   "source": [
    "same as eye() except that:\n",
    "\n",
    "1. it's always square matrix(rows=cols)\n",
    "2. Only main diagonal contains 1's.\n",
    "\n",
    "\n",
    "With identity() function we always get pure identity matrix. If we want to customise eye() is used.\n",
    "identity() is special case of eye()"
   ]
  },
  {
   "cell_type": "markdown",
   "id": "842c690a",
   "metadata": {},
   "source": [
    "##### empty()"
   ]
  },
  {
   "cell_type": "raw",
   "id": "36bd0e12",
   "metadata": {},
   "source": [
    "Returns a new array of given shape and type without intializing entries."
   ]
  },
  {
   "cell_type": "code",
   "execution_count": 12,
   "id": "bed68df7",
   "metadata": {},
   "outputs": [
    {
     "name": "stdout",
     "output_type": "stream",
     "text": [
      "[ 1.    2.75  6.   10.75 17.  ]\n"
     ]
    }
   ],
   "source": [
    "a = np.empty(5)\n",
    "print(a)"
   ]
  },
  {
   "cell_type": "raw",
   "id": "7d38d5af",
   "metadata": {},
   "source": [
    "np.zeros() vs np.empty()\n",
    "\n",
    "\n",
    "np.zeros() takes more time to create an array compared to empty()."
   ]
  },
  {
   "cell_type": "markdown",
   "id": "75506da1",
   "metadata": {},
   "source": [
    "#### Slicing on 2D array"
   ]
  },
  {
   "cell_type": "code",
   "execution_count": 56,
   "id": "10922238",
   "metadata": {},
   "outputs": [
    {
     "name": "stdout",
     "output_type": "stream",
     "text": [
      "(3, 2)\n",
      "[[1 2]\n",
      " [3 4]\n",
      " [5 6]]\n"
     ]
    }
   ],
   "source": [
    "a = np.array([[1,2],[3,4],[5,6]])\n",
    "print(a.shape)\n",
    "print(a)"
   ]
  },
  {
   "cell_type": "markdown",
   "id": "0779358b",
   "metadata": {},
   "source": [
    "syntax:\n",
    "\n",
    "array_name[row, column]\n",
    "array_name[begin:end:start, begin:end:start]\n"
   ]
  },
  {
   "cell_type": "code",
   "execution_count": 62,
   "id": "302dd691",
   "metadata": {},
   "outputs": [
    {
     "name": "stdout",
     "output_type": "stream",
     "text": [
      "[[1]\n",
      " [3]\n",
      " [5]]\n",
      "************************\n",
      "[[3 4]]\n",
      "************************\n",
      "[[1 2]\n",
      " [3 4]]\n",
      "************************\n",
      "[[1 2]\n",
      " [5 6]]\n",
      "************************\n",
      "[]\n"
     ]
    }
   ],
   "source": [
    "# fetch only first column elements\n",
    "print(a[:,0:1])\n",
    "\n",
    "print('************************')\n",
    "\n",
    "#Fetch only second indexed row\n",
    "print(a[1:2,:])\n",
    "\n",
    "print('************************')\n",
    "\n",
    "#Fetch only first two rows\n",
    "print(a[:2,:])\n",
    "\n",
    "print('************************')\n",
    "\n",
    "\n",
    "#Fetch first and last row\n",
    "print(a[::2,:])"
   ]
  },
  {
   "cell_type": "markdown",
   "id": "6af6d42c",
   "metadata": {},
   "source": [
    "If we want to access multiple elements which are not in order (arbitrary elements) or based on some condition, then we can't use basic indexing and slicing operators. For this we should go for \n",
    "##### Advanced Indexing"
   ]
  },
  {
   "cell_type": "markdown",
   "id": "b63b1731",
   "metadata": {},
   "source": [
    "Accessing multiple arbitrary elements:\n",
    "syntax: array[x] --> x can be nd array or sequence like list or tuple which represents required indices."
   ]
  },
  {
   "cell_type": "markdown",
   "id": "9dbe350a",
   "metadata": {},
   "source": [
    "###### Advanced Indexing on 1-D array"
   ]
  },
  {
   "cell_type": "code",
   "execution_count": 68,
   "id": "5108e1f6",
   "metadata": {},
   "outputs": [
    {
     "name": "stdout",
     "output_type": "stream",
     "text": [
      "[1 3 8]\n",
      "[1 3 8]\n",
      "[1 1 3 8 8]\n"
     ]
    }
   ],
   "source": [
    "a=np.array([1,2,3,4,5,6,7,8,9])\n",
    "\n",
    "# Fetch 1,3,8 from the above array.\n",
    "\n",
    "# Way-1: create nd array with the required indices\n",
    "# and then by passing that array as argument we can process corresponding elements\n",
    "\n",
    "index_array = np.array([0,2,7])\n",
    "print(a[index_array])\n",
    "\n",
    "\n",
    "\n",
    "#Way-2: create list with required indices and by passing that list as arg we can get required elements\n",
    "\n",
    "l = [0,2,7]\n",
    "print(a[l])\n",
    "\n",
    "\n",
    "# Access same element multiple times\n",
    "print(a[[0,0,2,7,7]])"
   ]
  },
  {
   "cell_type": "markdown",
   "id": "0926cfcb",
   "metadata": {},
   "source": [
    "##### Advanced indexing on 2-D array\n",
    "\n",
    "\n",
    "Syntax: array[row_indices, column_indices]"
   ]
  },
  {
   "cell_type": "code",
   "execution_count": 77,
   "id": "50a184d9",
   "metadata": {},
   "outputs": [
    {
     "name": "stdout",
     "output_type": "stream",
     "text": [
      "[ 1  6 11 16]\n",
      "[ 5 15]\n"
     ]
    },
    {
     "name": "stderr",
     "output_type": "stream",
     "text": [
      "/var/folders/1d/mdmrk41x47s4tlnxhhhbfp6m0000gq/T/ipykernel_47307/545759692.py:6: FutureWarning: Using a non-tuple sequence for multidimensional indexing is deprecated; use `arr[tuple(seq)]` instead of `arr[seq]`. In the future this will be interpreted as an array index, `arr[np.array(seq)]`, which will result either in an error or a different result.\n",
      "  print(a[l])\n",
      "/var/folders/1d/mdmrk41x47s4tlnxhhhbfp6m0000gq/T/ipykernel_47307/545759692.py:12: FutureWarning: Using a non-tuple sequence for multidimensional indexing is deprecated; use `arr[tuple(seq)]` instead of `arr[seq]`. In the future this will be interpreted as an array index, `arr[np.array(seq)]`, which will result either in an error or a different result.\n",
      "  print(a[l])\n"
     ]
    }
   ],
   "source": [
    "a = np.array([[1,2,3,4],[5,6,7,8],[9,10,11,12],[13,14,15,16]])\n",
    "# print(a)\n",
    "\n",
    "#Printing only diagonal indiced elements\n",
    "l = [[0,1,2,3], [0,1,2,3]]\n",
    "print(a[l])\n",
    "\n",
    "\n",
    "\n",
    "#Fetch only 5 and 15 in a\n",
    "l = [[1,3],[0,2]]\n",
    "print(a[l])"
   ]
  },
  {
   "cell_type": "markdown",
   "id": "70d4a9df",
   "metadata": {},
   "source": [
    "#### Condition based selection"
   ]
  },
  {
   "cell_type": "code",
   "execution_count": 110,
   "id": "af189acf",
   "metadata": {},
   "outputs": [
    {
     "name": "stdout",
     "output_type": "stream",
     "text": [
      "[False  True False False  True  True False]\n",
      "[-5 -3 -1]\n",
      "[-5 -3 -1]\n",
      "[20 40 75]\n"
     ]
    }
   ],
   "source": [
    "a=np.array([10, -5, 20, 40, -3, -1, 75])\n",
    "\n",
    "#select all elements which are less than zero\n",
    "\n",
    "boolean_array = a<0\n",
    "print(boolean_array)\n",
    "\n",
    "# By passing boolean array select array elements\n",
    "print(a[boolean_array])\n",
    "\n",
    "\n",
    "#short cut\n",
    "print(a[a<0])\n",
    "\n",
    "\n",
    "#select all elements which are greater than 10\n",
    "print(a[a>10])"
   ]
  },
  {
   "cell_type": "markdown",
   "id": "83227ea7",
   "metadata": {},
   "source": [
    "#### condition based selection on 2D array"
   ]
  },
  {
   "cell_type": "code",
   "execution_count": 85,
   "id": "183f0450",
   "metadata": {},
   "outputs": [
    {
     "name": "stdout",
     "output_type": "stream",
     "text": [
      "[11 12 13 14 15 16]\n"
     ]
    }
   ],
   "source": [
    "a = np.array([[1,2,3,4],[5,6,7,8],[9,10,11,12],[13,14,15,16]])\n",
    "print(a[a>10])"
   ]
  },
  {
   "cell_type": "raw",
   "id": "310cd060",
   "metadata": {},
   "source": [
    "#### slicing vs advanced indexing\n",
    "\n",
    "==> Eelements are odered and cannot access arbitrary elements in slicing.\n",
    "\n",
    "==> Condition based selection is not possoble in slicing.\n",
    "\n",
    "==> In case of normal list, slicing will create a new copy of the object. If we perform any changes in one copy, changes will not be reflected in the other.\n",
    "\n",
    "==> But in numpy slicing, a new copy won't be created and just we are getting view of the existing nd array. If we perform any changes to the original one those changes will be reflected to the sliced copy.\n",
    "\n",
    "\n",
    "==> But in case of advanced indexing, a new copy will be created. Changes in original copy will not be reflected in the other copy.\n"
   ]
  },
  {
   "cell_type": "markdown",
   "id": "cba7bd40",
   "metadata": {},
   "source": [
    "### Arithmetic Operations on numpy array\n",
    "\n",
    "+, -, *, /, %, **, //\n",
    "\n",
    "All arithmetic operators are applicable on any dimensional numpy arrays with a scalar value.\n",
    "\n",
    "In numpy we won't get ZeroDivisionError. If the result is undefined (0/0) then we will get NaN (not a number). If the result is infinity then it is treated as \"inf\"."
   ]
  },
  {
   "cell_type": "markdown",
   "id": "9a96abf6",
   "metadata": {},
   "source": [
    "#### Arithmetic operators for numpy arrays with array"
   ]
  },
  {
   "cell_type": "code",
   "execution_count": 86,
   "id": "21929807",
   "metadata": {},
   "outputs": [
    {
     "name": "stdout",
     "output_type": "stream",
     "text": [
      "[nan inf inf inf inf inf]\n"
     ]
    },
    {
     "name": "stderr",
     "output_type": "stream",
     "text": [
      "/var/folders/1d/mdmrk41x47s4tlnxhhhbfp6m0000gq/T/ipykernel_47307/2967758913.py:2: RuntimeWarning: divide by zero encountered in true_divide\n",
      "  print(a/0)\n",
      "/var/folders/1d/mdmrk41x47s4tlnxhhhbfp6m0000gq/T/ipykernel_47307/2967758913.py:2: RuntimeWarning: invalid value encountered in true_divide\n",
      "  print(a/0)\n"
     ]
    }
   ],
   "source": [
    "a = np.arange(6)\n",
    "print(a/0)"
   ]
  },
  {
   "cell_type": "code",
   "execution_count": 87,
   "id": "f2048c94",
   "metadata": {},
   "outputs": [
    {
     "name": "stdout",
     "output_type": "stream",
     "text": [
      "[0. 0. 0. 0. 0. 0.]\n"
     ]
    }
   ],
   "source": [
    "print(a/np.inf)"
   ]
  },
  {
   "cell_type": "code",
   "execution_count": 14,
   "id": "d3a36940",
   "metadata": {},
   "outputs": [
    {
     "data": {
      "application/javascript": [
       "window.require && require([\"base/js/namespace\"],function(Jupyter){Jupyter.notebook.save_checkpoint()})"
      ],
      "text/plain": [
       "<IPython.core.display.Javascript object>"
      ]
     },
     "metadata": {},
     "output_type": "display_data"
    },
    {
     "ename": "ApiError",
     "evalue": "File upload failed: (HTTP 404) Gist not found",
     "output_type": "error",
     "traceback": [
      "\u001b[0;31m---------------------------------------------------------------------------\u001b[0m",
      "\u001b[0;31mApiError\u001b[0m                                  Traceback (most recent call last)",
      "\u001b[0;32m/var/folders/1d/mdmrk41x47s4tlnxhhhbfp6m0000gq/T/ipykernel_6250/1252684204.py\u001b[0m in \u001b[0;36m<module>\u001b[0;34m\u001b[0m\n\u001b[1;32m      1\u001b[0m \u001b[0;32mimport\u001b[0m \u001b[0mjovian\u001b[0m\u001b[0;34m\u001b[0m\u001b[0;34m\u001b[0m\u001b[0m\n\u001b[1;32m      2\u001b[0m \u001b[0;34m\u001b[0m\u001b[0m\n\u001b[0;32m----> 3\u001b[0;31m \u001b[0mjovian\u001b[0m\u001b[0;34m.\u001b[0m\u001b[0mcommit\u001b[0m\u001b[0;34m(\u001b[0m\u001b[0;34m)\u001b[0m\u001b[0;34m\u001b[0m\u001b[0;34m\u001b[0m\u001b[0m\n\u001b[0m",
      "\u001b[0;32m~/opt/anaconda3/lib/python3.9/site-packages/jovian/utils/commit.py\u001b[0m in \u001b[0;36mcommit\u001b[0;34m(message, files, outputs, environment, privacy, filename, project, new_project, git_commit, git_message, require_write_access, **kwargs)\u001b[0m\n\u001b[1;32m    202\u001b[0m \u001b[0;34m\u001b[0m\u001b[0m\n\u001b[1;32m    203\u001b[0m     \u001b[0;31m# Create or update gist (with title and )\u001b[0m\u001b[0;34m\u001b[0m\u001b[0;34m\u001b[0m\u001b[0m\n\u001b[0;32m--> 204\u001b[0;31m     \u001b[0mres\u001b[0m \u001b[0;34m=\u001b[0m \u001b[0mapi\u001b[0m\u001b[0;34m.\u001b[0m\u001b[0mcreate_gist_simple\u001b[0m\u001b[0;34m(\u001b[0m\u001b[0mfilename\u001b[0m\u001b[0;34m,\u001b[0m \u001b[0mproject_id\u001b[0m\u001b[0;34m,\u001b[0m \u001b[0mprivacy\u001b[0m\u001b[0;34m,\u001b[0m \u001b[0mproject_title\u001b[0m\u001b[0;34m,\u001b[0m \u001b[0mmessage\u001b[0m\u001b[0;34m)\u001b[0m\u001b[0;34m\u001b[0m\u001b[0;34m\u001b[0m\u001b[0m\n\u001b[0m\u001b[1;32m    205\u001b[0m     \u001b[0mslug\u001b[0m\u001b[0;34m,\u001b[0m \u001b[0mowner\u001b[0m\u001b[0;34m,\u001b[0m \u001b[0mversion\u001b[0m\u001b[0;34m,\u001b[0m \u001b[0mtitle\u001b[0m \u001b[0;34m=\u001b[0m \u001b[0mres\u001b[0m\u001b[0;34m[\u001b[0m\u001b[0;34m'slug'\u001b[0m\u001b[0;34m]\u001b[0m\u001b[0;34m,\u001b[0m \u001b[0mres\u001b[0m\u001b[0;34m[\u001b[0m\u001b[0;34m'owner'\u001b[0m\u001b[0;34m]\u001b[0m\u001b[0;34m,\u001b[0m \u001b[0mres\u001b[0m\u001b[0;34m[\u001b[0m\u001b[0;34m'version'\u001b[0m\u001b[0;34m]\u001b[0m\u001b[0;34m,\u001b[0m \u001b[0mres\u001b[0m\u001b[0;34m[\u001b[0m\u001b[0;34m'title'\u001b[0m\u001b[0;34m]\u001b[0m\u001b[0;34m\u001b[0m\u001b[0;34m\u001b[0m\u001b[0m\n\u001b[1;32m    206\u001b[0m     \u001b[0musername\u001b[0m \u001b[0;34m=\u001b[0m \u001b[0mowner\u001b[0m\u001b[0;34m[\u001b[0m\u001b[0;34m'username'\u001b[0m\u001b[0;34m]\u001b[0m\u001b[0;34m\u001b[0m\u001b[0;34m\u001b[0m\u001b[0m\n",
      "\u001b[0;32m~/opt/anaconda3/lib/python3.9/site-packages/jovian/utils/api.py\u001b[0m in \u001b[0;36mcreate_gist_simple\u001b[0;34m(filename, gist_slug, privacy, title, version_title)\u001b[0m\n\u001b[1;32m     80\u001b[0m                     \u001b[0mlog\u001b[0m\u001b[0;34m(\u001b[0m\u001b[0mwarning\u001b[0m\u001b[0;34m,\u001b[0m \u001b[0merror\u001b[0m\u001b[0;34m=\u001b[0m\u001b[0;32mTrue\u001b[0m\u001b[0;34m)\u001b[0m\u001b[0;34m\u001b[0m\u001b[0;34m\u001b[0m\u001b[0m\n\u001b[1;32m     81\u001b[0m                 \u001b[0;32mreturn\u001b[0m \u001b[0mdata\u001b[0m\u001b[0;34m\u001b[0m\u001b[0;34m\u001b[0m\u001b[0m\n\u001b[0;32m---> 82\u001b[0;31m             \u001b[0;32mraise\u001b[0m \u001b[0mApiError\u001b[0m\u001b[0;34m(\u001b[0m\u001b[0;34m'File upload failed: '\u001b[0m \u001b[0;34m+\u001b[0m \u001b[0mpretty\u001b[0m\u001b[0;34m(\u001b[0m\u001b[0mres\u001b[0m\u001b[0;34m)\u001b[0m\u001b[0;34m)\u001b[0m\u001b[0;34m\u001b[0m\u001b[0;34m\u001b[0m\u001b[0m\n\u001b[0m\u001b[1;32m     83\u001b[0m \u001b[0;34m\u001b[0m\u001b[0m\n\u001b[1;32m     84\u001b[0m \u001b[0;34m\u001b[0m\u001b[0m\n",
      "\u001b[0;31mApiError\u001b[0m: File upload failed: (HTTP 404) Gist not found"
     ]
    }
   ],
   "source": [
    "import jovian\n",
    "\n",
    "jovian.commit()"
   ]
  }
 ],
 "metadata": {
  "kernelspec": {
   "display_name": "Python 3 (ipykernel)",
   "language": "python",
   "name": "python3"
  },
  "language_info": {
   "codemirror_mode": {
    "name": "ipython",
    "version": 3
   },
   "file_extension": ".py",
   "mimetype": "text/x-python",
   "name": "python",
   "nbconvert_exporter": "python",
   "pygments_lexer": "ipython3",
   "version": "3.9.13"
  }
 },
 "nbformat": 4,
 "nbformat_minor": 5
}
